{
 "cells": [
  {
   "cell_type": "code",
   "execution_count": 1,
   "metadata": {},
   "outputs": [],
   "source": [
    "import pandas as pd\n"
   ]
  },
  {
   "cell_type": "code",
   "execution_count": 2,
   "metadata": {},
   "outputs": [],
   "source": [
    "train = pd.read_csv(\"/home/qhn/Codes/Projects/KnowledgeDist/Data/engineer_train_50_bs.tsv\", sep=\"\\t\")\n",
    "test = pd.read_csv(\"./engineer_test.tsv\", sep=\"\\t\")"
   ]
  },
  {
   "cell_type": "code",
   "execution_count": 6,
   "metadata": {},
   "outputs": [
    {
     "name": "stdout",
     "output_type": "stream",
     "text": [
      "['交通运输工程' '信息与通信工程' '光学工程' '兵器科学与技术' '农业工程' '冶金工程' '力学' '动力工程及工程热物理'\n",
      " '化学/化学工程与技术' '土木工程' '建筑学' '控制科学与工程' '机械工程' '材料科学与工程' '核科学与技术' '水利工程'\n",
      " '测绘科学与技术' '环境科学与工程' '电子科学与技术' '电气工程' '石油与天然气工程' '矿业工程' '纺织科学与工程'\n",
      " '船舶与海洋工程' '计算机科学与技术' '食品科学与工程'] 26\n"
     ]
    }
   ],
   "source": [
    "labels_train = train['交通运输工程'].unique()\n",
    "print(labels_train, len(labels_train))"
   ]
  },
  {
   "cell_type": "code",
   "execution_count": 7,
   "metadata": {},
   "outputs": [
    {
     "name": "stdout",
     "output_type": "stream",
     "text": [
      "{'交通运输工程': 0, '信息与通信工程': 1, '光学工程': 2, '兵器科学与技术': 3, '农业工程': 4, '冶金工程': 5, '力学': 6, '动力工程及工程热物理': 7, '化学/化学工程与技术': 8, '土木工程': 9, '建筑学': 10, '控制科学与工程': 11, '机械工程': 12, '材料科学与工程': 13, '核科学与技术': 14, '水利工程': 15, '测绘科学与技术': 16, '环境科学与工程': 17, '电子科学与技术': 18, '电气工程': 19, '石油与天然气工程': 20, '矿业工程': 21, '纺织科学与工程': 22, '船舶与海洋工程': 23, '计算机科学与技术': 24, '食品科学与工程': 25}\n"
     ]
    }
   ],
   "source": [
    "output = {item[0]: item[1] for item in zip(labels_train, list(range(26)))}\n",
    "print(output)"
   ]
  },
  {
   "cell_type": "code",
   "execution_count": 9,
   "metadata": {},
   "outputs": [],
   "source": [
    "import json\n",
    "json.dump(output, open(\"./label2index.json\", \"w\"), ensure_ascii=False)"
   ]
  }
 ],
 "metadata": {
  "kernelspec": {
   "display_name": "KnowledgeDist",
   "language": "python",
   "name": "python3"
  },
  "language_info": {
   "codemirror_mode": {
    "name": "ipython",
    "version": 3
   },
   "file_extension": ".py",
   "mimetype": "text/x-python",
   "name": "python",
   "nbconvert_exporter": "python",
   "pygments_lexer": "ipython3",
   "version": "3.10.14"
  }
 },
 "nbformat": 4,
 "nbformat_minor": 2
}
