{
 "cells": [
  {
   "cell_type": "code",
   "execution_count": 1,
   "metadata": {},
   "outputs": [],
   "source": [
    "import pandas as pd"
   ]
  },
  {
   "cell_type": "code",
   "execution_count": 2,
   "metadata": {},
   "outputs": [
    {
     "name": "stdout",
     "output_type": "stream",
     "text": [
      "39978\n"
     ]
    },
    {
     "data": {
      "text/html": [
       "<div>\n",
       "<style scoped>\n",
       "    .dataframe tbody tr th:only-of-type {\n",
       "        vertical-align: middle;\n",
       "    }\n",
       "\n",
       "    .dataframe tbody tr th {\n",
       "        vertical-align: top;\n",
       "    }\n",
       "\n",
       "    .dataframe thead th {\n",
       "        text-align: right;\n",
       "    }\n",
       "</style>\n",
       "<table border=\"1\" class=\"dataframe\">\n",
       "  <thead>\n",
       "    <tr style=\"text-align: right;\">\n",
       "      <th></th>\n",
       "      <th>title</th>\n",
       "      <th>abstract</th>\n",
       "      <th>keywords</th>\n",
       "      <th>discipline</th>\n",
       "      <th>category</th>\n",
       "    </tr>\n",
       "  </thead>\n",
       "  <tbody>\n",
       "    <tr>\n",
       "      <th>0</th>\n",
       "      <td>分布式系统中的检查点算法</td>\n",
       "      <td>检查点能够保存和恢复程序的运行状态.它在进程迁移、容错、卷回调试等领域都有重要的应用.本文对...</td>\n",
       "      <td>检查点_分布式程序_异步检查点算法_一致检查点算法</td>\n",
       "      <td>计算机科学与技术</td>\n",
       "      <td>工学</td>\n",
       "    </tr>\n",
       "    <tr>\n",
       "      <th>1</th>\n",
       "      <td>轧辊的失效及其修复技术</td>\n",
       "      <td>轧辊是轧机的主要变形工具,由于自身材质及其所处的恶劣工作条件,经常发生失效乃至报废,通过修复...</td>\n",
       "      <td>冷轧辊_热轧辊_失效_修复_表面改性技术</td>\n",
       "      <td>材料科学与工程</td>\n",
       "      <td>工学</td>\n",
       "    </tr>\n",
       "    <tr>\n",
       "      <th>2</th>\n",
       "      <td>活检钳不同预清洗方法的清洗质量评价</td>\n",
       "      <td>目的：探讨活检钳3种不同预清洗方法的清洗质量。方法选择2014年5—8月某院使用后的宫颈活检...</td>\n",
       "      <td>活检钳_清洗方法_预清洗_清洗质量_潜血试验_ATP 生物荧光检测</td>\n",
       "      <td>公共卫生与预防医学</td>\n",
       "      <td>医学</td>\n",
       "    </tr>\n",
       "    <tr>\n",
       "      <th>3</th>\n",
       "      <td>Rhn(n=2～20)团簇结构和磁特性</td>\n",
       "      <td>使用紧束缚近似多体势和遗传算法,计算了Rhn(n=2～20)团簇的基态结构.据优化结构计算了...</td>\n",
       "      <td>铑团簇_遗传算法_结构_磁性</td>\n",
       "      <td>物理学</td>\n",
       "      <td>理学</td>\n",
       "    </tr>\n",
       "    <tr>\n",
       "      <th>4</th>\n",
       "      <td>一种反激式DC-DC变换器设计与研究</td>\n",
       "      <td>针对电池电源管理中的开关变换器应用,采用NCP1200电流型PWM控制芯片设计了一种多路隔离...</td>\n",
       "      <td>反激式DC-DC变换器_寄生参数_钳位电路</td>\n",
       "      <td>电气工程</td>\n",
       "      <td>工学</td>\n",
       "    </tr>\n",
       "  </tbody>\n",
       "</table>\n",
       "</div>"
      ],
      "text/plain": [
       "                 title                                           abstract  \\\n",
       "0         分布式系统中的检查点算法  检查点能够保存和恢复程序的运行状态.它在进程迁移、容错、卷回调试等领域都有重要的应用.本文对...   \n",
       "1          轧辊的失效及其修复技术  轧辊是轧机的主要变形工具,由于自身材质及其所处的恶劣工作条件,经常发生失效乃至报废,通过修复...   \n",
       "2    活检钳不同预清洗方法的清洗质量评价  目的：探讨活检钳3种不同预清洗方法的清洗质量。方法选择2014年5—8月某院使用后的宫颈活检...   \n",
       "3  Rhn(n=2～20)团簇结构和磁特性  使用紧束缚近似多体势和遗传算法,计算了Rhn(n=2～20)团簇的基态结构.据优化结构计算了...   \n",
       "4   一种反激式DC-DC变换器设计与研究  针对电池电源管理中的开关变换器应用,采用NCP1200电流型PWM控制芯片设计了一种多路隔离...   \n",
       "\n",
       "                            keywords discipline category  \n",
       "0          检查点_分布式程序_异步检查点算法_一致检查点算法   计算机科学与技术       工学  \n",
       "1               冷轧辊_热轧辊_失效_修复_表面改性技术    材料科学与工程       工学  \n",
       "2  活检钳_清洗方法_预清洗_清洗质量_潜血试验_ATP 生物荧光检测  公共卫生与预防医学       医学  \n",
       "3                     铑团簇_遗传算法_结构_磁性        物理学       理学  \n",
       "4              反激式DC-DC变换器_寄生参数_钳位电路       电气工程       工学  "
      ]
     },
     "execution_count": 2,
     "metadata": {},
     "output_type": "execute_result"
    }
   ],
   "source": [
    "data = pd.read_csv(\"./csl_40k.tsv\", sep=\"\\t\", on_bad_lines=\"skip\")\n",
    "print(len(data))\n",
    "data.head()"
   ]
  },
  {
   "cell_type": "code",
   "execution_count": 3,
   "metadata": {},
   "outputs": [
    {
     "data": {
      "text/plain": [
       "13"
      ]
     },
     "execution_count": 3,
     "metadata": {},
     "output_type": "execute_result"
    }
   ],
   "source": [
    "data_group_cate = data.groupby(\"category\")\n",
    "len(data_group_cate)"
   ]
  },
  {
   "cell_type": "code",
   "execution_count": 4,
   "metadata": {},
   "outputs": [
    {
     "name": "stdout",
     "output_type": "stream",
     "text": [
      "[('工学',                         title  \\\n",
      "0                分布式系统中的检查点算法   \n",
      "1                 轧辊的失效及其修复技术   \n",
      "4          一种反激式DC-DC变换器设计与研究   \n",
      "5              航天测控系统卫星鉴定技术研究   \n",
      "11      关于集成化汽车故障诊断系统及其支持技术研究   \n",
      "...                       ...   \n",
      "39969          首秦1号高炉低燃料比操作实践   \n",
      "39972    张拉膜结构在雪荷载下的响应及分析方法研究   \n",
      "39973       简单的宁静——江苏江阴新桥镇展示馆   \n",
      "39974         磨绒织物活性印花抗沾色皂洗工艺   \n",
      "39976  镁合金化学复合镀(Ni-P)-SiC纳米颗粒   \n",
      "\n",
      "                                                abstract  \\\n",
      "0      检查点能够保存和恢复程序的运行状态.它在进程迁移、容错、卷回调试等领域都有重要的应用.本文对...   \n",
      "1      轧辊是轧机的主要变形工具,由于自身材质及其所处的恶劣工作条件,经常发生失效乃至报废,通过修复...   \n",
      "4      针对电池电源管理中的开关变换器应用,采用NCP1200电流型PWM控制芯片设计了一种多路隔离...   \n",
      "5      针对基于卫星的航天测控系统精度鉴定技术开展了深入的分析和研究,提出了较为全面的卫星鉴定的思路...   \n",
      "11     集成化汽车故障诊断系统有两种不同的体系结构,可由状态检测、信息融合、故障诊断、网络信息获取以...   \n",
      "...                                                  ...   \n",
      "39969  对首秦1号高炉低燃料比生产操作实践进行了总结.通过采取改善人炉原燃料质量、提高高炉生产操作水...   \n",
      "39972  首先给出根据膜结构期望使用年限重新确定基本雪压的方法,再采用最大熵法可靠度理论计算张拉膜结构...   \n",
      "39973  新桥镇是一个典型的江南小镇,因为拥有阳光和海澜两个毛纺业巨头而闻名.雄厚的财力促使了大规模的...   \n",
      "39974  通过使用新型的助洗剂MD,有效地降低了磨绒织物活性染料印花后的皂洗沾色,减少了洗水次数,获得...   \n",
      "39976  研究了镁合金化学复合镀(Ni-P)-SiC纳米颗粒的制备工艺,并对复合镀层的性能进行测试,揭...   \n",
      "\n",
      "                                                keywords discipline category  \n",
      "0                              检查点_分布式程序_异步检查点算法_一致检查点算法   计算机科学与技术       工学  \n",
      "1                                   冷轧辊_热轧辊_失效_修复_表面改性技术    材料科学与工程       工学  \n",
      "4                                  反激式DC-DC变换器_寄生参数_钳位电路       电气工程       工学  \n",
      "5                       卫星鉴定_SLR卫星_EMBET_高斯-马尔可夫估计_主成分估计  航空宇航科学与技术       工学  \n",
      "11                                      汽车_故障诊断_集成系统_网络化     交通运输工程       工学  \n",
      "...                                                  ...        ...      ...  \n",
      "39969                                       高炉_煤比_焦比_燃料比       冶金工程       工学  \n",
      "39972                               张拉膜结构_雪荷载_最大熵法_确定性方法         力学       工学  \n",
      "39973  宁静_江苏_江阴_文化符号_建筑_消费理念_乡村环境_欧式_明星企业_江南小镇_集镇建设_个...        建筑学       工学  \n",
      "39974                              印花_活性染料_皂洗_助剂_沾色_磨绒织物    纺织科学与工程       工学  \n",
      "39976                                     镁合金_纳米颗粒_化学复合镀       冶金工程       工学  \n",
      "\n",
      "[17906 rows x 5 columns])]\n"
     ]
    }
   ],
   "source": [
    "data_engineer = [item for item in list(data_group_cate) if item[0] == \"工学\" ]\n",
    "print(data_engineer)"
   ]
  },
  {
   "cell_type": "code",
   "execution_count": 6,
   "metadata": {},
   "outputs": [],
   "source": [
    "data_engineer_out = data_engineer[0][1].reset_index().to_csv(\"engineer.tsv\", sep='\\t', index=False, columns=[\"title\",\"abstract\",\"keywords\",\"discipline\",\"category\"])"
   ]
  },
  {
   "cell_type": "code",
   "execution_count": null,
   "metadata": {},
   "outputs": [],
   "source": []
  }
 ],
 "metadata": {
  "kernelspec": {
   "display_name": "KnowledgeDist",
   "language": "python",
   "name": "python3"
  },
  "language_info": {
   "codemirror_mode": {
    "name": "ipython",
    "version": 3
   },
   "file_extension": ".py",
   "mimetype": "text/x-python",
   "name": "python",
   "nbconvert_exporter": "python",
   "pygments_lexer": "ipython3",
   "version": "3.10.14"
  }
 },
 "nbformat": 4,
 "nbformat_minor": 2
}
