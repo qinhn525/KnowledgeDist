{
 "cells": [
  {
   "cell_type": "code",
   "execution_count": 1,
   "metadata": {},
   "outputs": [],
   "source": [
    "import pandas as pd"
   ]
  },
  {
   "cell_type": "code",
   "execution_count": 2,
   "metadata": {},
   "outputs": [
    {
     "data": {
      "text/html": [
       "<div>\n",
       "<style scoped>\n",
       "    .dataframe tbody tr th:only-of-type {\n",
       "        vertical-align: middle;\n",
       "    }\n",
       "\n",
       "    .dataframe tbody tr th {\n",
       "        vertical-align: top;\n",
       "    }\n",
       "\n",
       "    .dataframe thead th {\n",
       "        text-align: right;\n",
       "    }\n",
       "</style>\n",
       "<table border=\"1\" class=\"dataframe\">\n",
       "  <thead>\n",
       "    <tr style=\"text-align: right;\">\n",
       "      <th></th>\n",
       "      <th>title</th>\n",
       "      <th>abstract</th>\n",
       "      <th>keywords</th>\n",
       "      <th>discipline</th>\n",
       "      <th>category</th>\n",
       "      <th>wrong</th>\n",
       "    </tr>\n",
       "  </thead>\n",
       "  <tbody>\n",
       "    <tr>\n",
       "      <th>0</th>\n",
       "      <td>分布式系统中的检查点算法</td>\n",
       "      <td>检查点能够保存和恢复程序的运行状态.它在进程迁移、容错、卷回调试等领域都有重要的应用.本文对...</td>\n",
       "      <td>检查点_分布式程序_异步检查点算法_一致检查点算法</td>\n",
       "      <td>计算机科学与技术</td>\n",
       "      <td>工学</td>\n",
       "      <td>111</td>\n",
       "    </tr>\n",
       "    <tr>\n",
       "      <th>1</th>\n",
       "      <td>轧辊的失效及其修复技术</td>\n",
       "      <td>轧辊是轧机的主要变形工具,由于自身材质及其所处的恶劣工作条件,经常发生失效乃至报废,通过修复...</td>\n",
       "      <td>冷轧辊_热轧辊_失效_修复_表面改性技术</td>\n",
       "      <td>材料科学与工程</td>\n",
       "      <td>工学</td>\n",
       "      <td>NaN</td>\n",
       "    </tr>\n",
       "    <tr>\n",
       "      <th>2</th>\n",
       "      <td>活检钳不同预清洗方法的清洗质量评价</td>\n",
       "      <td>目的：探讨活检钳3种不同预清洗方法的清洗质量。方法选择2014年5—8月某院使用后的宫颈活检...</td>\n",
       "      <td>活检钳_清洗方法_预清洗_清洗质量_潜血试验_ATP 生物荧光检测</td>\n",
       "      <td>公共卫生与预防医学</td>\n",
       "      <td>医学</td>\n",
       "      <td>NaN</td>\n",
       "    </tr>\n",
       "    <tr>\n",
       "      <th>3</th>\n",
       "      <td>Rhn(n=2～20)团簇结构和磁特性</td>\n",
       "      <td>使用紧束缚近似多体势和遗传算法,计算了Rhn(n=2～20)团簇的基态结构.据优化结构计算了...</td>\n",
       "      <td>铑团簇_遗传算法_结构_磁性</td>\n",
       "      <td>物理学</td>\n",
       "      <td>理学</td>\n",
       "      <td>NaN</td>\n",
       "    </tr>\n",
       "    <tr>\n",
       "      <th>4</th>\n",
       "      <td>一种反激式DC-DC变换器设计与研究</td>\n",
       "      <td>针对电池电源管理中的开关变换器应用,采用NCP1200电流型PWM控制芯片设计了一种多路隔离...</td>\n",
       "      <td>反激式DC-DC变换器_寄生参数_钳位电路</td>\n",
       "      <td>电气工程</td>\n",
       "      <td>工学</td>\n",
       "      <td>NaN</td>\n",
       "    </tr>\n",
       "  </tbody>\n",
       "</table>\n",
       "</div>"
      ],
      "text/plain": [
       "                 title                                           abstract  \\\n",
       "0         分布式系统中的检查点算法  检查点能够保存和恢复程序的运行状态.它在进程迁移、容错、卷回调试等领域都有重要的应用.本文对...   \n",
       "1          轧辊的失效及其修复技术  轧辊是轧机的主要变形工具,由于自身材质及其所处的恶劣工作条件,经常发生失效乃至报废,通过修复...   \n",
       "2    活检钳不同预清洗方法的清洗质量评价  目的：探讨活检钳3种不同预清洗方法的清洗质量。方法选择2014年5—8月某院使用后的宫颈活检...   \n",
       "3  Rhn(n=2～20)团簇结构和磁特性  使用紧束缚近似多体势和遗传算法,计算了Rhn(n=2～20)团簇的基态结构.据优化结构计算了...   \n",
       "4   一种反激式DC-DC变换器设计与研究  针对电池电源管理中的开关变换器应用,采用NCP1200电流型PWM控制芯片设计了一种多路隔离...   \n",
       "\n",
       "                            keywords discipline category wrong  \n",
       "0          检查点_分布式程序_异步检查点算法_一致检查点算法   计算机科学与技术       工学   111  \n",
       "1               冷轧辊_热轧辊_失效_修复_表面改性技术    材料科学与工程       工学   NaN  \n",
       "2  活检钳_清洗方法_预清洗_清洗质量_潜血试验_ATP 生物荧光检测  公共卫生与预防医学       医学   NaN  \n",
       "3                     铑团簇_遗传算法_结构_磁性        物理学       理学   NaN  \n",
       "4              反激式DC-DC变换器_寄生参数_钳位电路       电气工程       工学   NaN  "
      ]
     },
     "execution_count": 2,
     "metadata": {},
     "output_type": "execute_result"
    }
   ],
   "source": [
    "allData = pd.read_csv(\"./csl_40k.tsv\", sep=\"\\t\")\n",
    "allData.head()"
   ]
  },
  {
   "cell_type": "code",
   "execution_count": 3,
   "metadata": {},
   "outputs": [
    {
     "data": {
      "text/html": [
       "<div>\n",
       "<style scoped>\n",
       "    .dataframe tbody tr th:only-of-type {\n",
       "        vertical-align: middle;\n",
       "    }\n",
       "\n",
       "    .dataframe tbody tr th {\n",
       "        vertical-align: top;\n",
       "    }\n",
       "\n",
       "    .dataframe thead th {\n",
       "        text-align: right;\n",
       "    }\n",
       "</style>\n",
       "<table border=\"1\" class=\"dataframe\">\n",
       "  <thead>\n",
       "    <tr style=\"text-align: right;\">\n",
       "      <th></th>\n",
       "      <th>title</th>\n",
       "      <th>abstract</th>\n",
       "      <th>keywords</th>\n",
       "      <th>discipline</th>\n",
       "      <th>category</th>\n",
       "    </tr>\n",
       "  </thead>\n",
       "  <tbody>\n",
       "    <tr>\n",
       "      <th>0</th>\n",
       "      <td>分布式系统中的检查点算法</td>\n",
       "      <td>检查点能够保存和恢复程序的运行状态.它在进程迁移、容错、卷回调试等领域都有重要的应用.本文对...</td>\n",
       "      <td>检查点_分布式程序_异步检查点算法_一致检查点算法</td>\n",
       "      <td>计算机科学与技术</td>\n",
       "      <td>工学</td>\n",
       "    </tr>\n",
       "    <tr>\n",
       "      <th>1</th>\n",
       "      <td>轧辊的失效及其修复技术</td>\n",
       "      <td>轧辊是轧机的主要变形工具,由于自身材质及其所处的恶劣工作条件,经常发生失效乃至报废,通过修复...</td>\n",
       "      <td>冷轧辊_热轧辊_失效_修复_表面改性技术</td>\n",
       "      <td>材料科学与工程</td>\n",
       "      <td>工学</td>\n",
       "    </tr>\n",
       "    <tr>\n",
       "      <th>2</th>\n",
       "      <td>活检钳不同预清洗方法的清洗质量评价</td>\n",
       "      <td>目的：探讨活检钳3种不同预清洗方法的清洗质量。方法选择2014年5—8月某院使用后的宫颈活检...</td>\n",
       "      <td>活检钳_清洗方法_预清洗_清洗质量_潜血试验_ATP 生物荧光检测</td>\n",
       "      <td>公共卫生与预防医学</td>\n",
       "      <td>医学</td>\n",
       "    </tr>\n",
       "    <tr>\n",
       "      <th>3</th>\n",
       "      <td>Rhn(n=2～20)团簇结构和磁特性</td>\n",
       "      <td>使用紧束缚近似多体势和遗传算法,计算了Rhn(n=2～20)团簇的基态结构.据优化结构计算了...</td>\n",
       "      <td>铑团簇_遗传算法_结构_磁性</td>\n",
       "      <td>物理学</td>\n",
       "      <td>理学</td>\n",
       "    </tr>\n",
       "    <tr>\n",
       "      <th>4</th>\n",
       "      <td>一种反激式DC-DC变换器设计与研究</td>\n",
       "      <td>针对电池电源管理中的开关变换器应用,采用NCP1200电流型PWM控制芯片设计了一种多路隔离...</td>\n",
       "      <td>反激式DC-DC变换器_寄生参数_钳位电路</td>\n",
       "      <td>电气工程</td>\n",
       "      <td>工学</td>\n",
       "    </tr>\n",
       "  </tbody>\n",
       "</table>\n",
       "</div>"
      ],
      "text/plain": [
       "                 title                                           abstract  \\\n",
       "0         分布式系统中的检查点算法  检查点能够保存和恢复程序的运行状态.它在进程迁移、容错、卷回调试等领域都有重要的应用.本文对...   \n",
       "1          轧辊的失效及其修复技术  轧辊是轧机的主要变形工具,由于自身材质及其所处的恶劣工作条件,经常发生失效乃至报废,通过修复...   \n",
       "2    活检钳不同预清洗方法的清洗质量评价  目的：探讨活检钳3种不同预清洗方法的清洗质量。方法选择2014年5—8月某院使用后的宫颈活检...   \n",
       "3  Rhn(n=2～20)团簇结构和磁特性  使用紧束缚近似多体势和遗传算法,计算了Rhn(n=2～20)团簇的基态结构.据优化结构计算了...   \n",
       "4   一种反激式DC-DC变换器设计与研究  针对电池电源管理中的开关变换器应用,采用NCP1200电流型PWM控制芯片设计了一种多路隔离...   \n",
       "\n",
       "                            keywords discipline category  \n",
       "0          检查点_分布式程序_异步检查点算法_一致检查点算法   计算机科学与技术       工学  \n",
       "1               冷轧辊_热轧辊_失效_修复_表面改性技术    材料科学与工程       工学  \n",
       "2  活检钳_清洗方法_预清洗_清洗质量_潜血试验_ATP 生物荧光检测  公共卫生与预防医学       医学  \n",
       "3                     铑团簇_遗传算法_结构_磁性        物理学       理学  \n",
       "4              反激式DC-DC变换器_寄生参数_钳位电路       电气工程       工学  "
      ]
     },
     "execution_count": 3,
     "metadata": {},
     "output_type": "execute_result"
    }
   ],
   "source": [
    "allData = allData.drop(['wrong'], axis=1)\n",
    "allData.head()"
   ]
  },
  {
   "cell_type": "code",
   "execution_count": 4,
   "metadata": {},
   "outputs": [
    {
     "name": "stderr",
     "output_type": "stream",
     "text": [
      "/tmp/ipykernel_1370928/1862988360.py:1: FutureWarning: The 'axis' keyword in DataFrame.groupby is deprecated and will be removed in a future version.\n",
      "  cateGroups = list(allData.groupby(\"category\", axis=0))\n"
     ]
    },
    {
     "data": {
      "text/plain": [
       "('军事学',\n",
       "                                  title  \\\n",
       " 9                 一种业务概念模型驱动的需求分析与获取方法   \n",
       " 35              一种基于谱分析的非带限卫星信号信噪比估计算法   \n",
       " 268                    基于飞行时间的弹道导弹火力控制   \n",
       " 384              灰色逼近理想解排序法在目标威胁评估中的应用   \n",
       " 546    一种基于Multi-Agent协作的战场传感器网络数据融合架构   \n",
       " ...                                ...   \n",
       " 39368                   联合火力打击目标毁伤指标分析   \n",
       " 39402            车辆装备保障业务工程的基本问题及其相关研究   \n",
       " 39488                  朝鲜战争中苏联对华军事援助探析   \n",
       " 39889                     三轴稳定跟踪平台建模分析   \n",
       " 39929                   机场目标打击顺序灰色决策分析   \n",
       " \n",
       "                                                 abstract  \\\n",
       " 9      需求分析是军事电子信息系统建设的难点.本文在总结国外ADL/ESS研究成果基础上,结合军事电...   \n",
       " 35     为了实现对非带限卫星信号信噪比的快速高精度估计，分析了传统的基于谱分析的信噪比估计算法的对非...   \n",
       " 268    为了达到最佳射击效果,弹道导弹突击目标时经常需要多枚导弹同时击中目标,因此根据飞行时间确定发...   \n",
       " 384    针对空袭目标的威胁判断问题,分析了空袭目标威胁评判的准则;据此给出了影响目标威胁的主要因素....   \n",
       " 546    本文着眼于战场传感器网络数据融合问题,分析了数据融合的难点与需求,提出了基于多主体协作的Se...   \n",
       " ...                                                  ...   \n",
       " 39368  对目标的打击程度不同,带来了参战兵力兵器,以及兵力的使用的不同,因此,对目标的毁伤指标评估一...   \n",
       " 39402  本文阐述了车辆装备保障业务工程研究的背景与需求;在介绍业务工程理论基本内容的基础上,提出了车...   \n",
       " 39488  抗美援朝战争的胜利与苏联对华军事援助是分不开的,这些援助包括提供军事贷款、出售武器装备、提供...   \n",
       " 39889  三轴稳定跟踪平台是光电稳定平台的重要组成部分,它利用三轴框架结构消除扰动,实现稳定跟踪.通过...   \n",
       " 39929  对军事机场目标的结构、特征进行了系统分析,确立了军事机场目标评估体系,并运用灰色决策分析方法...   \n",
       " \n",
       "                                keywords discipline category  \n",
       " 9      军事电子信息系统_需求工程_需求建模_业务语义框架_业务概念模型        军事学      军事学  \n",
       " 35                   信噪比估计_谱分析_非带限_卫星信号        军事学      军事学  \n",
       " 268                 弹道导弹_飞行时间_集群射击_火力控制        军事学      军事学  \n",
       " 384                   灰色关联度_逼近理想解法_威胁评估        军事学      军事学  \n",
       " 546        传感器网_数据融合_Multi-Agent System        军事学      军事学  \n",
       " ...                                 ...        ...      ...  \n",
       " 39368                        目标_火力毁伤_指标        军事学      军事学  \n",
       " 39402                  车辆装备保障_业务工程_体系结构        军事学      军事学  \n",
       " 39488                   朝鲜战争_军事援助_苏联_中国        军事学      军事学  \n",
       " 39889                  三轴平台_光电稳定平台_虚拟样机        军事学      军事学  \n",
       " 39929                  机场目标_打击顺序_灰色决策方法        军事学      军事学  \n",
       " \n",
       " [347 rows x 5 columns])"
      ]
     },
     "execution_count": 4,
     "metadata": {},
     "output_type": "execute_result"
    }
   ],
   "source": [
    "cateGroups = list(allData.groupby(\"category\", axis=0))\n",
    "cateGroups[0]"
   ]
  },
  {
   "cell_type": "code",
   "execution_count": 5,
   "metadata": {},
   "outputs": [
    {
     "name": "stdout",
     "output_type": "stream",
     "text": [
      "{'军事学': 1, '农学': 7, '医学': 5, '历史学': 1, '哲学': 1, '工学': 27, '教育学': 4, '文学': 2, '法学': 4, '理学': 9, '管理学': 4, '经济学': 2, '艺术学': 1}\n"
     ]
    }
   ],
   "source": [
    "allCatesDisciplineNum = {item[0]:len(item[1][\"discipline\"].unique()) for item in cateGroups}\n",
    "print(allCatesDisciplineNum)"
   ]
  },
  {
   "cell_type": "code",
   "execution_count": 22,
   "metadata": {},
   "outputs": [
    {
     "name": "stdout",
     "output_type": "stream",
     "text": [
      "农学 [532, 244, 1296, 470, 123, 780, 545]\n",
      "医学 [1149, 351, 545, 964, 751]\n",
      "理学 [167, 592, 491, 664, 113, 535, 410, 205, 398]\n"
     ]
    }
   ],
   "source": [
    "# 根据上述情况，选取 农学 医学 理学 作为三个持续学习的数据集\n",
    "import json\n",
    "cates, outputDir = [1, 2, 9], [\"./agriculture/\", \"./medicine/\", \"./science/\"]\n",
    "for cate, dir in zip(cates, outputDir):\n",
    "    dis, df = cateGroups[cate][0], cateGroups[cate][1]\n",
    "    dfGroups = list(df.groupby(\"discipline\"))\n",
    "    disNum = [len(item[1]) for item in list(dfGroups)]\n",
    "    print(dis, disNum)\n",
    "    train, test = [], []\n",
    "    for item in dfGroups:\n",
    "        displine, data = item[0], item[1]\n",
    "        trainSamples = data.sample(frac=0.7)\n",
    "        train.append(trainSamples)\n",
    "        test.append(data.drop(trainSamples.index))\n",
    "    train, test = pd.concat(train), pd.concat(test)\n",
    "    train.to_csv(dir + \"train.tsv\", sep=\"\\t\", index=False, columns=[\"abstract\", \"discipline\"])\n",
    "    test.to_csv(dir + \"test.tsv\", sep=\"\\t\", index=False, columns=[\"abstract\", \"discipline\"])\n",
    "    label2index = {item[0]:idx  for item, idx in zip(dfGroups, list(range(len(dfGroups))))}\n",
    "    config = {\"labels_num\": len(dfGroups), \"train_samples\": len(train), \"test_samples\": len(test)}\n",
    "    json.dump(config, open(dir + \"config.json\", \"w\"), ensure_ascii=False)\n",
    "    json.dump(label2index, open(dir + \"label2index.json\", \"w\"), ensure_ascii=False)"
   ]
  }
 ],
 "metadata": {
  "kernelspec": {
   "display_name": "KnowledgeDist",
   "language": "python",
   "name": "python3"
  },
  "language_info": {
   "codemirror_mode": {
    "name": "ipython",
    "version": 3
   },
   "file_extension": ".py",
   "mimetype": "text/x-python",
   "name": "python",
   "nbconvert_exporter": "python",
   "pygments_lexer": "ipython3",
   "version": "3.10.14"
  }
 },
 "nbformat": 4,
 "nbformat_minor": 2
}
